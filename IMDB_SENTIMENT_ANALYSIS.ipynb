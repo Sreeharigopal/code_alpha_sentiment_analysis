{
 "cells": [
  {
   "cell_type": "markdown",
   "id": "99350a9c",
   "metadata": {},
   "source": [
    "# IMDb Movie Reviews Dataset\n",
    "\n",
    "The IMDb Movie Reviews Dataset is a popular benchmark dataset used for sentiment classification in natural language processing. It contains 50,000 movie reviews collected from the Internet Movie Database (IMDb), split evenly into:\n",
    "\n",
    "25,000 Positive reviews\n",
    "25,000 Negative reviews\n",
    "\n",
    "Each review is a free-text comment left by a user about a movie and is labeled for binary sentiment classification (positive or negative)."
   ]
  },
  {
   "cell_type": "markdown",
   "id": "393fcd65",
   "metadata": {},
   "source": [
    "# Analyze text data to classify it as positive, negative, or neutral"
   ]
  },
  {
   "cell_type": "markdown",
   "id": "bd530faf",
   "metadata": {},
   "source": [
    "### Import Libraries"
   ]
  },
  {
   "cell_type": "code",
   "execution_count": 1,
   "id": "3c6e962b",
   "metadata": {},
   "outputs": [
    {
     "name": "stderr",
     "output_type": "stream",
     "text": [
      "[nltk_data] Downloading package vader_lexicon to\n",
      "[nltk_data]     C:\\Users\\HP\\AppData\\Roaming\\nltk_data...\n",
      "[nltk_data]   Package vader_lexicon is already up-to-date!\n"
     ]
    }
   ],
   "source": [
    "import pandas as pd\n",
    "import re\n",
    "import nltk\n",
    "nltk.download('vader_lexicon')\n",
    "from nltk.sentiment.vader import SentimentIntensityAnalyzer\n"
   ]
  },
  {
   "cell_type": "markdown",
   "id": "f31c3daf",
   "metadata": {},
   "source": [
    "### Load IMDb Dataset"
   ]
  },
  {
   "cell_type": "code",
   "execution_count": 2,
   "id": "fcf83ab8",
   "metadata": {},
   "outputs": [
    {
     "name": "stdout",
     "output_type": "stream",
     "text": [
      "                                              review sentiment\n",
      "0  One of the other reviewers has mentioned that ...  positive\n",
      "1  A wonderful little production. <br /><br />The...  positive\n",
      "2  I thought this was a wonderful way to spend ti...  positive\n",
      "3  Basically there's a family where a little boy ...  negative\n",
      "4  Petter Mattei's \"Love in the Time of Money\" is...  positive\n"
     ]
    }
   ],
   "source": [
    "# Load IMDb dataset (CSV format)\n",
    "df = pd.read_csv('IMDB_Dataset.csv')  # columns: 'review', 'sentiment'\n",
    "print(df.head())"
   ]
  },
  {
   "cell_type": "markdown",
   "id": "d91b4a02",
   "metadata": {},
   "source": [
    "### Clean the Text"
   ]
  },
  {
   "cell_type": "code",
   "execution_count": 3,
   "id": "b20d2698",
   "metadata": {},
   "outputs": [],
   "source": [
    "def clean_text(text):\n",
    "    text = re.sub(r\"<.*?>\", \"\", text)         # Remove HTML tags\n",
    "    text = re.sub(r\"[^a-zA-Z]\", \" \", text)    # Remove non-alphabetic chars\n",
    "    text = text.lower()                       # Lowercase conversion\n",
    "    text = text.strip()\n",
    "    return text\n",
    "\n",
    "df['clean_review'] = df['review'].apply(clean_text)"
   ]
  },
  {
   "cell_type": "markdown",
   "id": "034bdccd",
   "metadata": {},
   "source": [
    "### Sentiment Analysis Using VADER (Lexicon-Based)"
   ]
  },
  {
   "cell_type": "code",
   "execution_count": 4,
   "id": "2b1506a5",
   "metadata": {},
   "outputs": [
    {
     "name": "stdout",
     "output_type": "stream",
     "text": [
      "                                              review vader_sentiment\n",
      "0  One of the other reviewers has mentioned that ...        negative\n",
      "1  A wonderful little production. <br /><br />The...        positive\n",
      "2  I thought this was a wonderful way to spend ti...        positive\n",
      "3  Basically there's a family where a little boy ...        negative\n",
      "4  Petter Mattei's \"Love in the Time of Money\" is...        positive\n"
     ]
    }
   ],
   "source": [
    "sid = SentimentIntensityAnalyzer()\n",
    "\n",
    "def get_sentiment(score):\n",
    "    if score >= 0.05:\n",
    "        return 'positive'\n",
    "    elif score <= -0.05:\n",
    "        return 'negative'\n",
    "    else:\n",
    "        return 'neutral'\n",
    "\n",
    "df['compound'] = df['clean_review'].apply(lambda x: sid.polarity_scores(x)['compound'])\n",
    "df['vader_sentiment'] = df['compound'].apply(get_sentiment)\n",
    "\n",
    "print(df[['review', 'vader_sentiment']].head())\n"
   ]
  },
  {
   "cell_type": "markdown",
   "id": "72d02296",
   "metadata": {},
   "source": [
    "# Use NLP techniques and lexicons to detect specific emotions"
   ]
  },
  {
   "cell_type": "markdown",
   "id": "7a51e123",
   "metadata": {},
   "source": [
    "### Install and Import Emotion Detection Library"
   ]
  },
  {
   "cell_type": "code",
   "execution_count": 5,
   "id": "8476d7fd",
   "metadata": {},
   "outputs": [],
   "source": [
    "# pip install nrclex"
   ]
  },
  {
   "cell_type": "code",
   "execution_count": 8,
   "id": "aa9bb40c-1bb7-4455-af2b-73d4c48c1692",
   "metadata": {},
   "outputs": [
    {
     "name": "stdout",
     "output_type": "stream",
     "text": [
      "Finished.\n"
     ]
    },
    {
     "name": "stderr",
     "output_type": "stream",
     "text": [
      "[nltk_data] Downloading package brown to\n",
      "[nltk_data]     C:\\Users\\HP\\AppData\\Roaming\\nltk_data...\n",
      "[nltk_data]   Unzipping corpora\\brown.zip.\n",
      "[nltk_data] Downloading package punkt_tab to\n",
      "[nltk_data]     C:\\Users\\HP\\AppData\\Roaming\\nltk_data...\n",
      "[nltk_data]   Unzipping tokenizers\\punkt_tab.zip.\n",
      "[nltk_data] Downloading package wordnet to\n",
      "[nltk_data]     C:\\Users\\HP\\AppData\\Roaming\\nltk_data...\n",
      "[nltk_data]   Package wordnet is already up-to-date!\n",
      "[nltk_data] Downloading package averaged_perceptron_tagger_eng to\n",
      "[nltk_data]     C:\\Users\\HP\\AppData\\Roaming\\nltk_data...\n",
      "[nltk_data]   Unzipping taggers\\averaged_perceptron_tagger_eng.zip.\n",
      "[nltk_data] Downloading package conll2000 to\n",
      "[nltk_data]     C:\\Users\\HP\\AppData\\Roaming\\nltk_data...\n",
      "[nltk_data]   Unzipping corpora\\conll2000.zip.\n",
      "[nltk_data] Downloading package movie_reviews to\n",
      "[nltk_data]     C:\\Users\\HP\\AppData\\Roaming\\nltk_data...\n",
      "[nltk_data]   Unzipping corpora\\movie_reviews.zip.\n"
     ]
    }
   ],
   "source": [
    "# !python -m textblob.download_corpora\n"
   ]
  },
  {
   "cell_type": "code",
   "execution_count": 9,
   "id": "30a31b6d",
   "metadata": {},
   "outputs": [
    {
     "name": "stdout",
     "output_type": "stream",
     "text": [
      "                                        clean_review  \\\n",
      "0  one of the other reviewers has mentioned that ...   \n",
      "1  a wonderful little production  the filming tec...   \n",
      "2  i thought this was a wonderful way to spend ti...   \n",
      "3  basically there s a family where a little boy ...   \n",
      "4  petter mattei s  love in the time of money  is...   \n",
      "\n",
      "                                            emotions  \n",
      "0  {'negative': 21, 'anger': 11, 'fear': 14, 'sad...  \n",
      "1  {'joy': 2, 'positive': 14, 'surprise': 1, 'tru...  \n",
      "2  {'anticipation': 9, 'joy': 5, 'positive': 8, '...  \n",
      "3  {'disgust': 1, 'negative': 5, 'anger': 2, 'ant...  \n",
      "4  {'joy': 13, 'positive': 19, 'anticipation': 13...  \n"
     ]
    }
   ],
   "source": [
    "from nrclex import NRCLex\n",
    "\n",
    "def detect_emotion(text):\n",
    "    emotion = NRCLex(text)\n",
    "    return emotion.raw_emotion_scores\n",
    "\n",
    "df['emotions'] = df['clean_review'].apply(detect_emotion)\n",
    "print(df[['clean_review', 'emotions']].head())\n"
   ]
  },
  {
   "cell_type": "markdown",
   "id": "953d8298",
   "metadata": {},
   "source": [
    "### Visualize Emotion Distribution"
   ]
  },
  {
   "cell_type": "code",
   "execution_count": null,
   "id": "c214ee21",
   "metadata": {},
   "outputs": [],
   "source": [
    "import seaborn as sns\n",
    "import matplotlib.pyplot as plt"
   ]
  },
  {
   "cell_type": "code",
   "execution_count": null,
   "id": "de3d5047",
   "metadata": {},
   "outputs": [],
   "source": [
    "emotion_df = pd.DataFrame(df['emotions'].tolist())\n",
    "emotion_sum = emotion_df.sum().sort_values(ascending=False)\n",
    "\n",
    "sns.barplot(x=emotion_sum.values, y=emotion_sum.index)\n",
    "plt.title(\"Emotion Distribution in IMDb Reviews\")\n",
    "plt.xlabel(\"Frequency\")\n",
    "plt.ylabel(\"Emotions\")\n",
    "plt.show()\n"
   ]
  },
  {
   "cell_type": "markdown",
   "id": "bbcab4db",
   "metadata": {},
   "source": [
    "# Understand public opinion and trends through sentiment patterns"
   ]
  },
  {
   "cell_type": "markdown",
   "id": "91acbf51",
   "metadata": {},
   "source": [
    "### Sentiment Count Plot"
   ]
  },
  {
   "cell_type": "code",
   "execution_count": null,
   "id": "7a736a6f",
   "metadata": {},
   "outputs": [],
   "source": [
    "sns.countplot(data=df, x='vader_sentiment', order=['positive', 'neutral', 'negative'])\n",
    "plt.title(\"Sentiment Classification with VADER\")\n",
    "plt.xlabel(\"Sentiment\")\n",
    "plt.ylabel(\"Count\")\n",
    "plt.show()\n"
   ]
  },
  {
   "cell_type": "code",
   "execution_count": null,
   "id": "8b80867c",
   "metadata": {},
   "outputs": [],
   "source": []
  },
  {
   "cell_type": "code",
   "execution_count": null,
   "id": "f1d4e04f",
   "metadata": {},
   "outputs": [],
   "source": []
  },
  {
   "cell_type": "code",
   "execution_count": null,
   "id": "14b4407b",
   "metadata": {},
   "outputs": [],
   "source": []
  },
  {
   "cell_type": "code",
   "execution_count": null,
   "id": "cd722b83-46a3-4ee8-9781-04ee6f94ae0b",
   "metadata": {},
   "outputs": [],
   "source": []
  },
  {
   "cell_type": "code",
   "execution_count": null,
   "id": "fb1c2ad6-b071-4147-b1cb-fe49e182552a",
   "metadata": {},
   "outputs": [],
   "source": []
  },
  {
   "cell_type": "code",
   "execution_count": null,
   "id": "ced8b54b-25e9-415a-89ce-f5ec45fcf366",
   "metadata": {},
   "outputs": [],
   "source": []
  },
  {
   "cell_type": "code",
   "execution_count": null,
   "id": "bf40d4c2-8082-4e21-9005-42671efa7628",
   "metadata": {},
   "outputs": [],
   "source": []
  },
  {
   "cell_type": "code",
   "execution_count": null,
   "id": "33149429-fd9f-45b6-b032-128fb6baebdc",
   "metadata": {},
   "outputs": [],
   "source": []
  }
 ],
 "metadata": {
  "kernelspec": {
   "display_name": "Python 3 (ipykernel)",
   "language": "python",
   "name": "python3"
  },
  "language_info": {
   "codemirror_mode": {
    "name": "ipython",
    "version": 3
   },
   "file_extension": ".py",
   "mimetype": "text/x-python",
   "name": "python",
   "nbconvert_exporter": "python",
   "pygments_lexer": "ipython3",
   "version": "3.11.7"
  }
 },
 "nbformat": 4,
 "nbformat_minor": 5
}
